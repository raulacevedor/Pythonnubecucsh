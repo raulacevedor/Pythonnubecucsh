{
  "nbformat": 4,
  "nbformat_minor": 0,
  "metadata": {
    "colab": {
      "provenance": [],
      "authorship_tag": "ABX9TyONdLfPYwUjnvx8vZLDOJrt",
      "include_colab_link": true
    },
    "kernelspec": {
      "name": "python3",
      "display_name": "Python 3"
    },
    "language_info": {
      "name": "python"
    }
  },
  "cells": [
    {
      "cell_type": "markdown",
      "metadata": {
        "id": "view-in-github",
        "colab_type": "text"
      },
      "source": [
        "<a href=\"https://colab.research.google.com/github/raulacevedor/Pythonnubecucsh/blob/main/Unidad_1/Actividad_1_final.ipynb\" target=\"_parent\"><img src=\"https://colab.research.google.com/assets/colab-badge.svg\" alt=\"Open In Colab\"/></a>"
      ]
    },
    {
      "cell_type": "code",
      "execution_count": null,
      "metadata": {
        "id": "4ulw4qFKEIX0"
      },
      "outputs": [],
      "source": []
    },
    {
      "cell_type": "markdown",
      "source": [
        "#**Actividad 1. Configuración del Entorno de trabajo Google Colab**\n",
        "Fecha: 10 de septiembre de 2025\n",
        "\n",
        "**Curso: Análisis y visualización de datos con Python en la nube**\n",
        "#Nombre: Raúl Acevedo Rosas\n",
        "\n",
        "*Campus: CUCSH*\n"
      ],
      "metadata": {
        "id": "CI9ZDQA7HWlx"
      }
    },
    {
      "cell_type": "code",
      "source": [
        "import datetime\n",
        "\n",
        "# Hora (Tiempo universal coordinado, UTC) y fecha\n",
        "now = datetime.datetime.now()\n",
        "print(f\"fecha y hora (UTC): {now.strftime('%Y-%m-%d %H:%M')}\")"
      ],
      "metadata": {
        "colab": {
          "base_uri": "https://localhost:8080/"
        },
        "id": "bNaKOurYH8AG",
        "outputId": "738536ec-6cc5-4d33-cb58-62cc95d931fa"
      },
      "execution_count": null,
      "outputs": [
        {
          "output_type": "stream",
          "name": "stdout",
          "text": [
            "fecha y hora (UTC): 2025-09-11 00:37\n"
          ]
        }
      ]
    },
    {
      "cell_type": "markdown",
      "source": [
        "¿Cual es su opinión sobre el potencial de uso de Python en su trabajo académico o en la investigación?\n",
        "\n",
        "A través de Python me permite obtener la **ubicación geográfica** de especies vegetales (por medio de la librería ``pygbif`` y ``pyinaturalist``) principalmente de la familia Crassulaceae con énfasis en aquellas especies en categoría de riesgo, con *mapas* de distribución, *sitios* de muestreo y *áreas potenciales de protección*"
      ],
      "metadata": {
        "id": "Oczyk5-dBdro"
      }
    },
    {
      "cell_type": "code",
      "source": [
        "import sys\n",
        "\n",
        "# Versión de Python\n",
        "print(f\"Versión de Python: {sys.version}\")\n",
        "\n",
        "import platform\n",
        "\n",
        "# Parámetros del entorno de ejecución (ejemplo con algunas variables de entorno)\n",
        "print(\"\\nParámetros del entorno de ejecución:\")\n",
        "print(f\"Sistema Operativo: {platform.system()}\")\n",
        "print(f\"Nombre del nodo: {platform.node()}\")\n",
        "print(f\"Arquitectura: {platform.architecture()}\")\n",
        "print(f\"Procesador: {platform.processor()}\")\n"
      ],
      "metadata": {
        "colab": {
          "base_uri": "https://localhost:8080/"
        },
        "id": "v_T8ESB2MlRq",
        "outputId": "01cc6f5b-eccf-4a50-cfa7-1aa9251a446d"
      },
      "execution_count": 1,
      "outputs": [
        {
          "output_type": "stream",
          "name": "stdout",
          "text": [
            "Versión de Python: 3.12.11 (main, Jun  4 2025, 08:56:18) [GCC 11.4.0]\n",
            "\n",
            "Parámetros del entorno de ejecución:\n",
            "Sistema Operativo: Linux\n",
            "Nombre del nodo: 49f6baa0e403\n",
            "Arquitectura: ('64bit', 'ELF')\n",
            "Procesador: x86_64\n"
          ]
        }
      ]
    }
  ]
}