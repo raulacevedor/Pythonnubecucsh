{
  "nbformat": 4,
  "nbformat_minor": 0,
  "metadata": {
    "colab": {
      "provenance": [],
      "authorship_tag": "ABX9TyN5Z1hILh2KcAMlyZlAaROD",
      "include_colab_link": true
    },
    "kernelspec": {
      "name": "python3",
      "display_name": "Python 3"
    },
    "language_info": {
      "name": "python"
    }
  },
  "cells": [
    {
      "cell_type": "markdown",
      "metadata": {
        "id": "view-in-github",
        "colab_type": "text"
      },
      "source": [
        "<a href=\"https://colab.research.google.com/github/raulacevedor/Pythonnubecucsh/blob/main/Unidad_1/Actividad_2.ipynb\" target=\"_parent\"><img src=\"https://colab.research.google.com/assets/colab-badge.svg\" alt=\"Open In Colab\"/></a>"
      ]
    },
    {
      "cell_type": "markdown",
      "source": [],
      "metadata": {
        "id": "-Gmp_ztBDTZ6"
      }
    },
    {
      "cell_type": "markdown",
      "source": [
        "#**Actividad 2. Uso de Google Drive en combinación con Google Colab**\n",
        "Fecha: 17 de septiembre de 2025\n",
        "\n",
        "**Curso: Análisis y visualización de datos con Python en la nube**\n",
        "#Nombre: Raúl Acevedo Rosas\n",
        "\n",
        "*Campus: CUCSH*\n"
      ],
      "metadata": {
        "id": "CI9ZDQA7HWlx"
      }
    },
    {
      "cell_type": "code",
      "source": [
        "import datetime\n",
        "\n",
        "# Hora (Tiempo universal coordinado, UTC) y fecha\n",
        "now = datetime.datetime.now()\n",
        "print(f\"fecha y hora (UTC): {now.strftime('%Y-%m-%d %H:%M')}\")"
      ],
      "metadata": {
        "colab": {
          "base_uri": "https://localhost:8080/"
        },
        "id": "bNaKOurYH8AG",
        "outputId": "bb7e5682-80f3-4981-df58-457718962f60"
      },
      "execution_count": 10,
      "outputs": [
        {
          "output_type": "stream",
          "name": "stdout",
          "text": [
            "fecha y hora (UTC): 2025-09-18 00:25\n"
          ]
        }
      ]
    },
    {
      "cell_type": "code",
      "execution_count": 6,
      "metadata": {
        "colab": {
          "base_uri": "https://localhost:8080/"
        },
        "id": "9GebANBPAxfK",
        "outputId": "cfc37f7a-6ce8-4c09-f2d9-8e3c78adc8ad"
      },
      "outputs": [
        {
          "output_type": "stream",
          "name": "stdout",
          "text": [
            "Drive already mounted at /content/drive; to attempt to forcibly remount, call drive.mount(\"/content/drive\", force_remount=True).\n"
          ]
        }
      ],
      "source": [
        "from google.colab import drive\n",
        "drive.mount('/content/drive')"
      ]
    },
    {
      "cell_type": "code",
      "source": [
        "nombre_archivo = \"Mi ejemplo.txt\"\n",
        "ruta = \"/content/drive/MyDrive/Colab Data/\"\n",
        "\n",
        "with open(ruta + nombre_archivo, 'r') as f:\n",
        "  contenido = f.read()\n",
        "  print(contenido)"
      ],
      "metadata": {
        "colab": {
          "base_uri": "https://localhost:8080/"
        },
        "id": "m6gNOsNnHFYJ",
        "outputId": "9363a114-f8cb-4fd0-8e91-378604b41a1b"
      },
      "execution_count": 13,
      "outputs": [
        {
          "output_type": "stream",
          "name": "stdout",
          "text": [
            "\n",
            "Mi curso de Python\n",
            "Espero poder entender para apoyo en mi trabajo profesional\n"
          ]
        }
      ]
    }
  ]
}