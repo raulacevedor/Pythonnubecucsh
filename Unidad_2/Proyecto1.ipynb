{
  "nbformat": 4,
  "nbformat_minor": 0,
  "metadata": {
    "colab": {
      "provenance": [],
      "authorship_tag": "ABX9TyO9owEeS0fKbr3pGfsaUSWU",
      "include_colab_link": true
    },
    "kernelspec": {
      "name": "python3",
      "display_name": "Python 3"
    },
    "language_info": {
      "name": "python"
    }
  },
  "cells": [
    {
      "cell_type": "markdown",
      "metadata": {
        "id": "view-in-github",
        "colab_type": "text"
      },
      "source": [
        "<a href=\"https://colab.research.google.com/github/raulacevedor/Pythonnubecucsh/blob/main/Unidad_2/Proyecto1.ipynb\" target=\"_parent\"><img src=\"https://colab.research.google.com/assets/colab-badge.svg\" alt=\"Open In Colab\"/></a>"
      ]
    },
    {
      "cell_type": "markdown",
      "source": [
        "#**Proyecto 1. Chat Bot simple**\n",
        "Fecha: 29 de septiembre de 2025\n",
        "\n",
        "**Curso: Análisis y visualización de datos con Python en la nube**\n",
        "#Nombre: Raúl Acevedo Rosas\n",
        "\n",
        "*Campus: CUCSH*\n"
      ],
      "metadata": {
        "id": "CI9ZDQA7HWlx"
      }
    },
    {
      "cell_type": "code",
      "source": [
        "# Bienvenida y saludo al usuario\n",
        "print(\"Hola, soy un ChatBot\")\n",
        "nombre_usuario = input(\"Ingresa tu nombre: \")\n",
        "print(f\"Es un placer {nombre_usuario}\")\n",
        "print(type(nombre_usuario))\n"
      ],
      "metadata": {
        "colab": {
          "base_uri": "https://localhost:8080/"
        },
        "id": "Gab5B_uiyeWu",
        "outputId": "3165e3e8-61a7-4740-820f-cf8aa3a2a9ad"
      },
      "execution_count": 3,
      "outputs": [
        {
          "output_type": "stream",
          "name": "stdout",
          "text": [
            "Hola, soy un ChatBot\n",
            "Ingresa tu nombre: Skywalker\n",
            "Es un placer Skywalker\n",
            "<class 'str'>\n"
          ]
        }
      ]
    },
    {
      "cell_type": "code",
      "source": [
        "# Componente para adivinar edad\n",
        "def edad_estimada():\n",
        "  print(\"Voy a estimar la edad de tu personaje real o ficticio\")\n",
        "  residuo_3 = int(input(\"Cuál es el residuo de la edad del personaje entre 3:\"))\n",
        "  print(type(residuo_3))\n",
        "  residuo_5 = int(input(\"Cuál es el residuo de la edad del personaje entre 5:\"))\n",
        "  residuo_7 = int(input(\"Cuál es el residuo de la edad del personaje entre 7:\"))\n",
        "  edad = (residuo_3 * 70 + residuo_5 * 21 + residuo_7 * 15) % 105\n",
        "  print(f\"la edad estimada de tu personaje es: {edad}\")\n",
        "\n",
        "edad_estimada()"
      ],
      "metadata": {
        "colab": {
          "base_uri": "https://localhost:8080/"
        },
        "id": "DE3ztuGiS2tb",
        "outputId": "90ec6444-ec6d-482b-b003-7c4637a4e494"
      },
      "execution_count": 4,
      "outputs": [
        {
          "output_type": "stream",
          "name": "stdout",
          "text": [
            "Voy a estimar la edad de tu personaje real o ficticio\n",
            "Cuál es el residuo de la edad del personaje entre 3:0\n",
            "<class 'int'>\n",
            "Cuál es el residuo de la edad del personaje entre 5:3\n",
            "Cuál es el residuo de la edad del personaje entre 7:6\n",
            "la edad estimada de tu personaje es: 48\n"
          ]
        }
      ]
    },
    {
      "cell_type": "code",
      "source": [
        "# Componente para pregunta de opción múltiple\n",
        "def opcion_multiple():\n",
        "    print(\"¿Cuál de las siguientes afirmaciones es correcta sobre las plantas crasuláceas mexicanas?\")\n",
        "    print(\"Para responder la pregunta escribe el número de una de las siguientes respuestas:\")\n",
        "    print(\"1. Solo crecen en ambientes acuáticos.\")\n",
        "    print(\"2. Son suculentas que almacenan agua en sus hojas.\")\n",
        "    print(\"3. Son originarias exclusivamente del continente asiático.\")\n",
        "    print(\"4. No pueden sobrevivir en clima seco.\")\n",
        "    respuesta = int(input())\n",
        "    while respuesta != 2:\n",
        "        print(\"Respuesta incorrecta, intente otra vez.\")\n",
        "        respuesta = int(input())\n",
        "    print(\"Muy bien, ¡su respuesta fue correcta!\")\n",
        "\n",
        "opcion_multiple()\n"
      ],
      "metadata": {
        "colab": {
          "base_uri": "https://localhost:8080/"
        },
        "id": "QDAmsK5KaxZz",
        "outputId": "f830ac09-634e-48e5-881c-1bc481b5b78d"
      },
      "execution_count": 7,
      "outputs": [
        {
          "output_type": "stream",
          "name": "stdout",
          "text": [
            "¿Cuál de las siguientes afirmaciones es correcta sobre las plantas crasuláceas mexicanas?\n",
            "Para responder la pregunta escribe el número de una de las siguientes respuestas:\n",
            "1. Solo crecen en ambientes acuáticos.\n",
            "2. Son suculentas que almacenan agua en sus hojas.\n",
            "3. Son originarias exclusivamente del continente asiático.\n",
            "4. No pueden sobrevivir en clima seco.\n",
            "1\n",
            "Respuesta incorrecta, intente otra vez.\n",
            "3\n",
            "Respuesta incorrecta, intente otra vez.\n",
            "2\n",
            "Muy bien, ¡su respuesta fue correcta!\n"
          ]
        }
      ]
    },
    {
      "cell_type": "code",
      "source": [
        "# Despedida\n",
        "print(f\"Nos vemos {nombre_usuario}\")"
      ],
      "metadata": {
        "colab": {
          "base_uri": "https://localhost:8080/"
        },
        "id": "RkPU6rz0MJZj",
        "outputId": "3574ee88-77d7-45b2-c0ce-9c6114ec4d38"
      },
      "execution_count": 8,
      "outputs": [
        {
          "output_type": "stream",
          "name": "stdout",
          "text": [
            "Nos vemos Skywalker\n"
          ]
        }
      ]
    }
  ]
}