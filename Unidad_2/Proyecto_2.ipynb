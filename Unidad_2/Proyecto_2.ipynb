{
  "nbformat": 4,
  "nbformat_minor": 0,
  "metadata": {
    "colab": {
      "provenance": [],
      "authorship_tag": "ABX9TyPquteZwCraU8LV/oLxVYu/",
      "include_colab_link": true
    },
    "kernelspec": {
      "name": "python3",
      "display_name": "Python 3"
    },
    "language_info": {
      "name": "python"
    }
  },
  "cells": [
    {
      "cell_type": "markdown",
      "metadata": {
        "id": "view-in-github",
        "colab_type": "text"
      },
      "source": [
        "<a href=\"https://colab.research.google.com/github/raulacevedor/Pythonnubecucsh/blob/main/Unidad_2/Proyecto_2.ipynb\" target=\"_parent\"><img src=\"https://colab.research.google.com/assets/colab-badge.svg\" alt=\"Open In Colab\"/></a>"
      ]
    },
    {
      "cell_type": "code",
      "execution_count": null,
      "metadata": {
        "id": "knMQf09XEFR0"
      },
      "outputs": [],
      "source": []
    },
    {
      "cell_type": "markdown",
      "source": [
        "#**Proyecto 2. Convertidor de divisas**\n",
        "Fecha: 10 de octubre de 2025\n",
        "\n",
        "##**Curso: Análisis y visualización de datos con Python en la nube**\n",
        "#Nombre: Raúl Acevedo Rosas\n",
        "\n",
        "*Campus: CUCSH*"
      ],
      "metadata": {
        "id": "-zLIkKs-utYM"
      }
    },
    {
      "cell_type": "markdown",
      "source": [
        "##Presentar al usuario las reglas de uso de programa y preguntar al usuario el código de divisa de entrada (origen)"
      ],
      "metadata": {
        "id": "joA02lnVGvOo"
      }
    },
    {
      "cell_type": "code",
      "source": [
        "import json\n",
        "import requests\n",
        "\n",
        "def currency_search(cur):\n",
        "    r = requests.get(\"http://www.floatrates.com/daily/{}.json\".format(cur))\n",
        "    return r.text\n",
        "\n",
        "# Código de ejemplo\n",
        "exchange_file = currency_search(\"mxn\")\n",
        "exchange_dict = json.loads(exchange_file) # Crear diccionario\n",
        "print(exchange_dict)\n"
      ],
      "metadata": {
        "id": "E_obRAZHG-PH",
        "colab": {
          "base_uri": "https://localhost:8080/"
        },
        "outputId": "f032faa6-4694-4b66-e688-46cdbca7a8d0"
      },
      "execution_count": null,
      "outputs": [
        {
          "output_type": "stream",
          "name": "stdout",
          "text": [
            "{'aud': {'code': 'AUD', 'alphaCode': 'AUD', 'numericCode': '036', 'name': 'Australian Dollar', 'rate': 0.082924761490314, 'date': 'Mon, 13 Oct 2025 21:55:04 GMT', 'inverseRate': 12.059124223309}, 'cad': {'code': 'CAD', 'alphaCode': 'CAD', 'numericCode': '124', 'name': 'Canadian Dollar', 'rate': 0.075657918724519, 'date': 'Mon, 13 Oct 2025 21:55:04 GMT', 'inverseRate': 13.217387113716}, 'chf': {'code': 'CHF', 'alphaCode': 'CHF', 'numericCode': '756', 'name': 'Swiss Franc', 'rate': 0.043401587649588, 'date': 'Mon, 13 Oct 2025 21:55:04 GMT', 'inverseRate': 23.040631786877}, 'cny': {'code': 'CNY', 'alphaCode': 'CNY', 'numericCode': '156', 'name': 'Chinese Yuan', 'rate': 0.38536154458909, 'date': 'Mon, 13 Oct 2025 21:55:04 GMT', 'inverseRate': 2.5949657251511}, 'eur': {'code': 'EUR', 'alphaCode': 'EUR', 'numericCode': '978', 'name': 'Euro', 'rate': 0.046622193951639, 'date': 'Mon, 13 Oct 2025 21:55:04 GMT', 'inverseRate': 21.449012052871}, 'gbp': {'code': 'GBP', 'alphaCode': 'GBP', 'numericCode': '826', 'name': 'U.K. Pound Sterling', 'rate': 0.04051117621363, 'date': 'Mon, 13 Oct 2025 21:55:04 GMT', 'inverseRate': 24.68454617873}, 'hkd': {'code': 'HKD', 'alphaCode': 'HKD', 'numericCode': '344', 'name': 'Hong Kong Dollar', 'rate': 0.42025485972086, 'date': 'Mon, 13 Oct 2025 21:55:04 GMT', 'inverseRate': 2.3795084741298}, 'idr': {'code': 'IDR', 'alphaCode': 'IDR', 'numericCode': '360', 'name': 'Indonesian Rupiah', 'rate': 896.06745544836, 'date': 'Mon, 13 Oct 2025 21:55:04 GMT', 'inverseRate': 0.0011159874113491}, 'inr': {'code': 'INR', 'alphaCode': 'INR', 'numericCode': '356', 'name': 'Indian Rupee', 'rate': 4.7936804660859, 'date': 'Mon, 13 Oct 2025 21:55:04 GMT', 'inverseRate': 0.20860798025124}, 'jpy': {'code': 'JPY', 'alphaCode': 'JPY', 'numericCode': '392', 'name': 'Japanese Yen', 'rate': 8.218928693492, 'date': 'Mon, 13 Oct 2025 21:55:04 GMT', 'inverseRate': 0.12167035842419}, 'krw': {'code': 'KRW', 'alphaCode': 'KRW', 'numericCode': '410', 'name': 'South Korean Won', 'rate': 77.163607686153, 'date': 'Mon, 13 Oct 2025 21:55:04 GMT', 'inverseRate': 0.012959477012367}, 'myr': {'code': 'MYR', 'alphaCode': 'MYR', 'numericCode': '458', 'name': 'Malaysian Ringgit', 'rate': 0.22834932826895, 'date': 'Mon, 13 Oct 2025 21:55:04 GMT', 'inverseRate': 4.3792552734037}, 'nzd': {'code': 'NZD', 'alphaCode': 'NZD', 'numericCode': '554', 'name': 'New Zealand Dollar', 'rate': 0.094306412715976, 'date': 'Mon, 13 Oct 2025 21:55:04 GMT', 'inverseRate': 10.603732781266}, 'php': {'code': 'PHP', 'alphaCode': 'PHP', 'numericCode': '608', 'name': 'Philippine Peso', 'rate': 3.1478801229094, 'date': 'Mon, 13 Oct 2025 21:55:04 GMT', 'inverseRate': 0.31767410478}, 'sgd': {'code': 'SGD', 'alphaCode': 'SGD', 'numericCode': '702', 'name': 'Singapore Dollar', 'rate': 0.070128219335707, 'date': 'Mon, 13 Oct 2025 21:55:04 GMT', 'inverseRate': 14.259594917318}, 'thb': {'code': 'THB', 'alphaCode': 'THB', 'numericCode': '764', 'name': 'Thai Baht', 'rate': 1.7627179030721, 'date': 'Mon, 13 Oct 2025 21:55:04 GMT', 'inverseRate': 0.56730574884229}, 'twd': {'code': 'TWD', 'alphaCode': 'TWD', 'numericCode': '901', 'name': 'New Taiwan Dollar ', 'rate': 1.6564442012762, 'date': 'Mon, 13 Oct 2025 21:55:04 GMT', 'inverseRate': 0.60370279857877}, 'usd': {'code': 'USD', 'alphaCode': 'USD', 'numericCode': '840', 'name': 'U.S. Dollar', 'rate': 0.054034810234024, 'date': 'Mon, 13 Oct 2025 21:55:04 GMT', 'inverseRate': 18.506588542997}, 'vnd': {'code': 'VND', 'alphaCode': 'VND', 'numericCode': '704', 'name': 'Vietnamese Dong', 'rate': 1423.3230710989, 'date': 'Mon, 13 Oct 2025 21:55:04 GMT', 'inverseRate': 0.00070258117802301}, 'aed': {'code': 'AED', 'alphaCode': 'AED', 'numericCode': '784', 'name': 'U.A.E Dirham', 'rate': 0.19844800385098, 'date': 'Mon, 13 Oct 2025 21:55:04 GMT', 'inverseRate': 5.0391033449293}, 'qar': {'code': 'QAR', 'alphaCode': 'QAR', 'numericCode': '634', 'name': 'Qatari Rial', 'rate': 0.19670982513091, 'date': 'Mon, 13 Oct 2025 21:55:04 GMT', 'inverseRate': 5.0836301609973}, 'sar': {'code': 'SAR', 'alphaCode': 'SAR', 'numericCode': '682', 'name': 'Saudi Riyal', 'rate': 0.20263823530749, 'date': 'Mon, 13 Oct 2025 21:55:04 GMT', 'inverseRate': 4.934902825632}, 'bgn': {'code': 'BGN', 'alphaCode': 'BGN', 'numericCode': '975', 'name': 'Bulgarian Lev', 'rate': 0.091335423831183, 'date': 'Mon, 13 Oct 2025 21:55:04 GMT', 'inverseRate': 10.94865450943}, 'brl': {'code': 'BRL', 'alphaCode': 'BRL', 'numericCode': '986', 'name': 'Brazilian Real', 'rate': 0.29604957936987, 'date': 'Mon, 13 Oct 2025 21:55:04 GMT', 'inverseRate': 3.3778126019583}, 'clp': {'code': 'CLP', 'alphaCode': 'CLP', 'numericCode': '152', 'name': 'Chilean Peso', 'rate': 51.821137358259, 'date': 'Mon, 13 Oct 2025 21:55:04 GMT', 'inverseRate': 0.019297144967827}, 'czk': {'code': 'CZK', 'alphaCode': 'CZK', 'numericCode': '203', 'name': 'Czech Koruna', 'rate': 1.1373957409585, 'date': 'Mon, 13 Oct 2025 21:55:04 GMT', 'inverseRate': 0.87920146347417}, 'dkk': {'code': 'DKK', 'alphaCode': 'DKK', 'numericCode': '208', 'name': 'Danish Krone', 'rate': 0.34872296658238, 'date': 'Mon, 13 Oct 2025 21:55:04 GMT', 'inverseRate': 2.8676057955126}, 'huf': {'code': 'HUF', 'alphaCode': 'HUF', 'numericCode': '348', 'name': 'Hungarian Forint', 'rate': 18.336052497427, 'date': 'Mon, 13 Oct 2025 21:55:04 GMT', 'inverseRate': 0.05453736567019}, 'ils': {'code': 'ILS', 'alphaCode': 'ILS', 'numericCode': '376', 'name': 'Israeli New Sheqel', 'rate': 0.17743375874454, 'date': 'Mon, 13 Oct 2025 21:55:04 GMT', 'inverseRate': 5.6359060816591}, 'isk': {'code': 'ISK', 'alphaCode': 'ISK', 'numericCode': '352', 'name': 'Icelandic Krona', 'rate': 6.6126281892891, 'date': 'Mon, 13 Oct 2025 21:55:04 GMT', 'inverseRate': 0.15122580181051}, 'nok': {'code': 'NOK', 'alphaCode': 'NOK', 'numericCode': '578', 'name': 'Norwegian Krone', 'rate': 0.54538895119095, 'date': 'Mon, 13 Oct 2025 21:55:04 GMT', 'inverseRate': 1.8335538294575}, 'pln': {'code': 'PLN', 'alphaCode': 'PLN', 'numericCode': '985', 'name': 'Polish Zloty', 'rate': 0.19900872978601, 'date': 'Mon, 13 Oct 2025 21:55:04 GMT', 'inverseRate': 5.0249051942359}, 'ron': {'code': 'RON', 'alphaCode': 'RON', 'numericCode': '946', 'name': 'Romanian New Leu', 'rate': 0.23760107076287, 'date': 'Mon, 13 Oct 2025 21:55:04 GMT', 'inverseRate': 4.2087352417617}, 'sek': {'code': 'SEK', 'alphaCode': 'SEK', 'numericCode': '752', 'name': 'Swedish Krona', 'rate': 0.51437201989042, 'date': 'Mon, 13 Oct 2025 21:55:04 GMT', 'inverseRate': 1.9441181894245}, 'try': {'code': 'TRY', 'alphaCode': 'TRY', 'numericCode': '949', 'name': 'Turkish Lira', 'rate': 2.2591762845526, 'date': 'Mon, 13 Oct 2025 21:55:04 GMT', 'inverseRate': 0.44263920741273}, 'uah': {'code': 'UAH', 'alphaCode': 'UAH', 'numericCode': '980', 'name': 'Ukrainian Hryvnia', 'rate': 2.2483748485237, 'date': 'Mon, 13 Oct 2025 21:55:04 GMT', 'inverseRate': 0.44476569405524}, 'zar': {'code': 'ZAR', 'alphaCode': 'ZAR', 'numericCode': '710', 'name': 'South African Rand', 'rate': 0.93777161792158, 'date': 'Mon, 13 Oct 2025 21:55:04 GMT', 'inverseRate': 1.0663577153426}, 'egp': {'code': 'EGP', 'alphaCode': 'EGP', 'numericCode': '818', 'name': 'Egyptian Pound', 'rate': 2.5767243927114, 'date': 'Mon, 13 Oct 2025 21:55:04 GMT', 'inverseRate': 0.38808962372097}, 'jod': {'code': 'JOD', 'alphaCode': 'JOD', 'numericCode': '400', 'name': 'Jordanian Dinar', 'rate': 0.038309025122229, 'date': 'Mon, 13 Oct 2025 21:55:04 GMT', 'inverseRate': 26.103509468314}, 'lbp': {'code': 'LBP', 'alphaCode': 'LBP', 'numericCode': '422', 'name': 'Lebanese Pound', 'rate': 4799.7648254241, 'date': 'Mon, 13 Oct 2025 21:55:04 GMT', 'inverseRate': 0.00020834354106332}, 'mdl': {'code': 'MDL', 'alphaCode': 'MDL', 'numericCode': '498', 'name': 'Moldova Lei', 'rate': 0.91488451029174, 'date': 'Mon, 13 Oct 2025 21:55:04 GMT', 'inverseRate': 1.0930341357306}, 'rsd': {'code': 'RSD', 'alphaCode': 'RSD', 'numericCode': '941', 'name': 'Serbian Dinar', 'rate': 5.456574528995, 'date': 'Mon, 13 Oct 2025 21:55:04 GMT', 'inverseRate': 0.18326515924711}, 'rub': {'code': 'RUB', 'alphaCode': 'RUB', 'numericCode': '643', 'name': 'Russian Rouble', 'rate': 4.369329151421, 'date': 'Mon, 13 Oct 2025 21:55:04 GMT', 'inverseRate': 0.22886808600235}, 'azn': {'code': 'AZN', 'alphaCode': 'AZN', 'numericCode': '944', 'name': 'Azerbaijan Manat', 'rate': 0.091856432769509, 'date': 'Mon, 13 Oct 2025 21:55:04 GMT', 'inverseRate': 10.88655383025}, 'bdt': {'code': 'BDT', 'alphaCode': 'BDT', 'numericCode': '050', 'name': 'Bangladeshi taka', 'rate': 6.5803740068118, 'date': 'Mon, 13 Oct 2025 21:55:04 GMT', 'inverseRate': 0.15196704609264}, 'dzd': {'code': 'DZD', 'alphaCode': 'DZD', 'numericCode': '012', 'name': 'Algerian Dinar', 'rate': 7.0230989396214, 'date': 'Mon, 13 Oct 2025 21:55:04 GMT', 'inverseRate': 0.14238728638129}, 'gel': {'code': 'GEL', 'alphaCode': 'GEL', 'numericCode': '981', 'name': 'Georgian lari', 'rate': 0.14642763334656, 'date': 'Mon, 13 Oct 2025 21:55:04 GMT', 'inverseRate': 6.8293120440812}, 'kzt': {'code': 'KZT', 'alphaCode': 'KZT', 'numericCode': '398', 'name': 'Kazakhstani Tenge', 'rate': 29.061839252899, 'date': 'Mon, 13 Oct 2025 21:55:04 GMT', 'inverseRate': 0.03440938446111}, 'tnd': {'code': 'TND', 'alphaCode': 'TND', 'numericCode': '788', 'name': 'Tunisian Dinar', 'rate': 0.15881985877442, 'date': 'Mon, 13 Oct 2025 21:55:04 GMT', 'inverseRate': 6.2964418160096}, 'afn': {'code': 'AFN', 'alphaCode': 'AFN', 'numericCode': '971', 'name': 'Afghan afghani', 'rate': 3.5820796194322, 'date': 'Mon, 13 Oct 2025 21:55:04 GMT', 'inverseRate': 0.27916744077244}, 'all': {'code': 'ALL', 'alphaCode': 'ALL', 'numericCode': '008', 'name': 'Albanian lek', 'rate': 4.5053140246987, 'date': 'Mon, 13 Oct 2025 21:55:04 GMT', 'inverseRate': 0.22196011077538}, 'amd': {'code': 'AMD', 'alphaCode': 'AMD', 'numericCode': '051', 'name': 'Armenia Dram', 'rate': 20.676523591062, 'date': 'Mon, 13 Oct 2025 21:55:04 GMT', 'inverseRate': 0.048364029649174}, 'aoa': {'code': 'AOA', 'alphaCode': 'AOA', 'numericCode': '973', 'name': 'Angolan kwanza', 'rate': 49.645608698081, 'date': 'Mon, 13 Oct 2025 21:55:04 GMT', 'inverseRate': 0.020142768438624}, 'ars': {'code': 'ARS', 'alphaCode': 'ARS', 'numericCode': '032', 'name': 'Argentine Peso', 'rate': 76.369301297464, 'date': 'Mon, 13 Oct 2025 21:55:04 GMT', 'inverseRate': 0.013094266714644}, 'awg': {'code': 'AWG', 'alphaCode': 'AWG', 'numericCode': '533', 'name': 'Aruban florin', 'rate': 0.09672457628024, 'date': 'Mon, 13 Oct 2025 21:55:04 GMT', 'inverseRate': 10.338634072717}, 'bam': {'code': 'BAM', 'alphaCode': 'BAM', 'numericCode': '977', 'name': 'Bosnia and Herzegovina convertible mark', 'rate': 0.091350075978919, 'date': 'Mon, 13 Oct 2025 21:55:04 GMT', 'inverseRate': 10.946898393722}, 'bbd': {'code': 'BBD', 'alphaCode': 'BBD', 'numericCode': '052', 'name': 'Barbadian Dollar', 'rate': 0.10806962046805, 'date': 'Mon, 13 Oct 2025 21:55:04 GMT', 'inverseRate': 9.2532942714984}, 'bhd': {'code': 'BHD', 'alphaCode': 'BHD', 'numericCode': '048', 'name': 'Bahrain Dinar', 'rate': 0.020317350204685, 'date': 'Mon, 13 Oct 2025 21:55:04 GMT', 'inverseRate': 49.21901674803}, 'bif': {'code': 'BIF', 'alphaCode': 'BIF', 'numericCode': '108', 'name': 'Burundian franc', 'rate': 159.86737367816, 'date': 'Mon, 13 Oct 2025 21:55:04 GMT', 'inverseRate': 0.0062551850136301}, 'bnd': {'code': 'BND', 'alphaCode': 'BND', 'numericCode': '096', 'name': 'Brunei Dollar', 'rate': 0.070176594672505, 'date': 'Mon, 13 Oct 2025 21:55:04 GMT', 'inverseRate': 14.249765248182}, 'bob': {'code': 'BOB', 'alphaCode': 'BOB', 'numericCode': '068', 'name': 'Bolivian Boliviano', 'rate': 0.37334680149473, 'date': 'Mon, 13 Oct 2025 21:55:04 GMT', 'inverseRate': 2.678474801435}, 'bsd': {'code': 'BSD', 'alphaCode': 'BSD', 'numericCode': '044', 'name': 'Bahamian Dollar', 'rate': 0.054034810234024, 'date': 'Mon, 13 Oct 2025 21:55:04 GMT', 'inverseRate': 18.506588542997}, 'bwp': {'code': 'BWP', 'alphaCode': 'BWP', 'numericCode': '072', 'name': 'Botswana Pula', 'rate': 0.75891608399046, 'date': 'Mon, 13 Oct 2025 21:55:04 GMT', 'inverseRate': 1.3176687397925}, 'bzd': {'code': 'BZD', 'alphaCode': 'BZD', 'numericCode': '084', 'name': 'Belize dollar', 'rate': 0.10806962046805, 'date': 'Mon, 13 Oct 2025 21:55:04 GMT', 'inverseRate': 9.2532942714984}, 'cdf': {'code': 'CDF', 'alphaCode': 'CDF', 'numericCode': '976', 'name': 'Congolese franc', 'rate': 124.79646519129, 'date': 'Mon, 13 Oct 2025 21:55:04 GMT', 'inverseRate': 0.0080130474726766}, 'cop': {'code': 'COP', 'alphaCode': 'COP', 'numericCode': '170', 'name': 'Colombian Peso', 'rate': 212.07042743703, 'date': 'Mon, 13 Oct 2025 21:55:04 GMT', 'inverseRate': 0.0047154146482631}, 'crc': {'code': 'CRC', 'alphaCode': 'CRC', 'numericCode': '188', 'name': 'Costa Rican Colón', 'rate': 27.193638636105, 'date': 'Mon, 13 Oct 2025 21:55:04 GMT', 'inverseRate': 0.036773306190526}, 'cup': {'code': 'CUP', 'alphaCode': 'CUP', 'numericCode': '192', 'name': 'Cuban peso', 'rate': 1.2968354456166, 'date': 'Mon, 13 Oct 2025 21:55:04 GMT', 'inverseRate': 0.7711078559582}, 'cve': {'code': 'CVE', 'alphaCode': 'CVE', 'numericCode': '132', 'name': 'Cape Verde escudo', 'rate': 5.1500979777463, 'date': 'Mon, 13 Oct 2025 21:55:04 GMT', 'inverseRate': 0.19417106321492}, 'djf': {'code': 'DJF', 'alphaCode': 'DJF', 'numericCode': '262', 'name': 'Djiboutian franc', 'rate': 9.603100663987, 'date': 'Mon, 13 Oct 2025 21:55:04 GMT', 'inverseRate': 0.10413303317231}, 'dop': {'code': 'DOP', 'alphaCode': 'DOP', 'numericCode': '214', 'name': 'Dominican Peso', 'rate': 3.408556574998, 'date': 'Mon, 13 Oct 2025 21:55:04 GMT', 'inverseRate': 0.29337931702089}, 'ern': {'code': 'ERN', 'alphaCode': 'ERN', 'numericCode': '232', 'name': 'Eritrean nakfa', 'rate': 0.83105435385514, 'date': 'Mon, 13 Oct 2025 21:55:04 GMT', 'inverseRate': 1.2032907298556}, 'etb': {'code': 'ETB', 'alphaCode': 'ETB', 'numericCode': '230', 'name': 'Ethiopian birr', 'rate': 7.9299131620961, 'date': 'Mon, 13 Oct 2025 21:55:04 GMT', 'inverseRate': 0.12610478570936}, 'fjd': {'code': 'FJD', 'alphaCode': 'FJD', 'numericCode': '242', 'name': 'Fiji Dollar', 'rate': 0.12404793197385, 'date': 'Mon, 13 Oct 2025 21:55:04 GMT', 'inverseRate': 8.061400009561}, 'ghs': {'code': 'GHS', 'alphaCode': 'GHS', 'numericCode': '936', 'name': 'Ghanaian Cedi', 'rate': 0.65332191078873, 'date': 'Mon, 13 Oct 2025 21:55:04 GMT', 'inverseRate': 1.5306390058046}, 'gip': {'code': 'GIP', 'alphaCode': 'GIP', 'numericCode': '292', 'name': 'Gibraltar pound', 'rate': 0.040527275339323, 'date': 'Mon, 13 Oct 2025 21:55:04 GMT', 'inverseRate': 24.67474044646}, 'gmd': {'code': 'GMD', 'alphaCode': 'GMD', 'numericCode': '270', 'name': 'Gambian dalasi', 'rate': 3.9331587603139, 'date': 'Mon, 13 Oct 2025 21:55:04 GMT', 'inverseRate': 0.25424857244262}, 'gnf': {'code': 'GNF', 'alphaCode': 'GNF', 'numericCode': '324', 'name': 'Guinean franc', 'rate': 467.5917506584, 'date': 'Mon, 13 Oct 2025 21:55:04 GMT', 'inverseRate': 0.0021386177121216}, 'gtq': {'code': 'GTQ', 'alphaCode': 'GTQ', 'numericCode': '320', 'name': 'Guatemalan Quetzal', 'rate': 0.41386675899705, 'date': 'Mon, 13 Oct 2025 21:55:04 GMT', 'inverseRate': 2.4162365743588}, 'gyd': {'code': 'GYD', 'alphaCode': 'GYD', 'numericCode': '328', 'name': 'Guyanese dollar', 'rate': 11.305162156445, 'date': 'Mon, 13 Oct 2025 21:55:04 GMT', 'inverseRate': 0.088455166424123}, 'hnl': {'code': 'HNL', 'alphaCode': 'HNL', 'numericCode': '340', 'name': 'Honduran Lempira', 'rate': 1.4172262545536, 'date': 'Mon, 13 Oct 2025 21:55:04 GMT', 'inverseRate': 0.70560363723645}, 'htg': {'code': 'HTG', 'alphaCode': 'HTG', 'numericCode': '332', 'name': 'Haitian gourde', 'rate': 7.0610828624978, 'date': 'Mon, 13 Oct 2025 21:55:04 GMT', 'inverseRate': 0.14162133761538}, 'iqd': {'code': 'IQD', 'alphaCode': 'IQD', 'numericCode': '368', 'name': 'Iraqi dinar', 'rate': 70.785601406572, 'date': 'Mon, 13 Oct 2025 21:55:04 GMT', 'inverseRate': 0.014127166826715}, 'jmd': {'code': 'JMD', 'alphaCode': 'JMD', 'numericCode': '388', 'name': 'Jamaican Dollar', 'rate': 8.6880212227336, 'date': 'Mon, 13 Oct 2025 21:55:04 GMT', 'inverseRate': 0.11510100796984}, 'kes': {'code': 'KES', 'alphaCode': 'KES', 'numericCode': '404', 'name': 'Kenyan shilling', 'rate': 6.9812330271939, 'date': 'Mon, 13 Oct 2025 21:55:04 GMT', 'inverseRate': 0.14324117188249}, 'kgs': {'code': 'KGS', 'alphaCode': 'KGS', 'numericCode': '417', 'name': 'Kyrgyzstan Som', 'rate': 4.7253439214326, 'date': 'Mon, 13 Oct 2025 21:55:04 GMT', 'inverseRate': 0.21162480797732}, 'khr': {'code': 'KHR', 'alphaCode': 'KHR', 'numericCode': '116', 'name': 'Cambodian riel', 'rate': 217.19761140883, 'date': 'Mon, 13 Oct 2025 21:55:04 GMT', 'inverseRate': 0.0046041021975961}, 'kmf': {'code': 'KMF', 'alphaCode': 'KMF', 'numericCode': '174', 'name': '\\tComoro franc', 'rate': 22.978117393474, 'date': 'Mon, 13 Oct 2025 21:55:04 GMT', 'inverseRate': 0.043519666249247}, 'kwd': {'code': 'KWD', 'alphaCode': 'KWD', 'numericCode': '414', 'name': 'Kuwaiti Dinar', 'rate': 0.016576155373892, 'date': 'Mon, 13 Oct 2025 21:55:04 GMT', 'inverseRate': 60.32761985177}, 'lkr': {'code': 'LKR', 'alphaCode': 'LKR', 'numericCode': '144', 'name': 'Sri Lanka Rupee', 'rate': 16.352412306258, 'date': 'Mon, 13 Oct 2025 21:55:04 GMT', 'inverseRate': 0.061153056886738}, 'lrd': {'code': 'LRD', 'alphaCode': 'LRD', 'numericCode': '430', 'name': 'Liberian dollar', 'rate': 9.8937742209153, 'date': 'Mon, 13 Oct 2025 21:55:04 GMT', 'inverseRate': 0.10107366285821}, 'lsl': {'code': 'LSL', 'alphaCode': 'LSL', 'numericCode': '426', 'name': 'Lesotho loti', 'rate': 0.93821786721061, 'date': 'Mon, 13 Oct 2025 21:55:04 GMT', 'inverseRate': 1.0658505182523}, 'lyd': {'code': 'LYD', 'alphaCode': 'LYD', 'numericCode': '434', 'name': 'Libyan Dinar', 'rate': 0.29299487257244, 'date': 'Mon, 13 Oct 2025 21:55:04 GMT', 'inverseRate': 3.4130290104403}, 'mad': {'code': 'MAD', 'alphaCode': 'MAD', 'numericCode': '504', 'name': 'Moroccan Dirham', 'rate': 0.49448226808507, 'date': 'Mon, 13 Oct 2025 21:55:04 GMT', 'inverseRate': 2.0223172084059}, 'mga': {'code': 'MGA', 'alphaCode': 'MGA', 'numericCode': '969', 'name': 'Malagasy ariary', 'rate': 242.19168868477, 'date': 'Mon, 13 Oct 2025 21:55:04 GMT', 'inverseRate': 0.0041289608468009}, 'mkd': {'code': 'MKD', 'alphaCode': 'MKD', 'numericCode': '807', 'name': 'Macedonian denar', 'rate': 2.8704305662627, 'date': 'Mon, 13 Oct 2025 21:55:04 GMT', 'inverseRate': 0.34837979073711}, 'mmk': {'code': 'MMK', 'alphaCode': 'MMK', 'numericCode': '104', 'name': 'Myanma Kyat', 'rate': 113.47356855697, 'date': 'Mon, 13 Oct 2025 21:55:04 GMT', 'inverseRate': 0.0088126249373917}, 'mnt': {'code': 'MNT', 'alphaCode': 'MNT', 'numericCode': '496', 'name': 'Mongolian togrog', 'rate': 194.22779610501, 'date': 'Mon, 13 Oct 2025 21:55:04 GMT', 'inverseRate': 0.0051485936619461}, 'mop': {'code': 'MOP', 'alphaCode': 'MOP', 'numericCode': '446', 'name': 'Macanese pataca', 'rate': 0.43284363115375, 'date': 'Mon, 13 Oct 2025 21:55:04 GMT', 'inverseRate': 2.310303139576}, 'mru': {'code': 'MRU', 'alphaCode': 'MRU', 'numericCode': '929', 'name': 'Mauritanian ouguiya', 'rate': 2.1608319307346, 'date': 'Mon, 13 Oct 2025 21:55:04 GMT', 'inverseRate': 0.46278471998515}, 'mur': {'code': 'MUR', 'alphaCode': 'MUR', 'numericCode': '480', 'name': 'Mauritian Rupee', 'rate': 2.4541163839307, 'date': 'Mon, 13 Oct 2025 21:55:04 GMT', 'inverseRate': 0.40747863734088}, 'mvr': {'code': 'MVR', 'alphaCode': 'MVR', 'numericCode': '462', 'name': 'Maldivian rufiyaa', 'rate': 0.83321686722176, 'date': 'Mon, 13 Oct 2025 21:55:04 GMT', 'inverseRate': 1.2001677346432}, 'mwk': {'code': 'MWK', 'alphaCode': 'MWK', 'numericCode': '454', 'name': 'Malawian kwacha', 'rate': 93.690415201703, 'date': 'Mon, 13 Oct 2025 21:55:04 GMT', 'inverseRate': 0.010673450404154}, 'mzn': {'code': 'MZN', 'alphaCode': 'MZN', 'numericCode': '943', 'name': 'Mozambican metical', 'rate': 3.4516142071868, 'date': 'Mon, 13 Oct 2025 21:55:04 GMT', 'inverseRate': 0.28971951671709}, 'nad': {'code': 'NAD', 'alphaCode': 'NAD', 'numericCode': '516', 'name': 'Namibian dollar', 'rate': 0.93821786721061, 'date': 'Mon, 13 Oct 2025 21:55:04 GMT', 'inverseRate': 1.0658505182523}, 'ngn': {'code': 'NGN', 'alphaCode': 'NGN', 'numericCode': '566', 'name': 'Nigerian Naira', 'rate': 78.639560373489, 'date': 'Mon, 13 Oct 2025 21:55:04 GMT', 'inverseRate': 0.012716246063058}, 'nio': {'code': 'NIO', 'alphaCode': 'NIO', 'numericCode': '558', 'name': 'Nicaraguan Córdoba', 'rate': 1.9886878992028, 'date': 'Mon, 13 Oct 2025 21:55:04 GMT', 'inverseRate': 0.50284411163806}, 'npr': {'code': 'NPR', 'alphaCode': 'NPR', 'numericCode': '524', 'name': 'Nepalese Rupee', 'rate': 7.6677959911796, 'date': 'Mon, 13 Oct 2025 21:55:04 GMT', 'inverseRate': 0.13041557197796}, 'omr': {'code': 'OMR', 'alphaCode': 'OMR', 'numericCode': '512', 'name': 'Omani Rial', 'rate': 0.020775074416193, 'date': 'Mon, 13 Oct 2025 21:55:04 GMT', 'inverseRate': 48.134604958168}, 'pab': {'code': 'PAB', 'alphaCode': 'PAB', 'numericCode': '590', 'name': 'Panamanian Balboa', 'rate': 0.054034810234024, 'date': 'Mon, 13 Oct 2025 21:55:04 GMT', 'inverseRate': 18.506588542997}, 'pen': {'code': 'PEN', 'alphaCode': 'PEN', 'numericCode': '604', 'name': 'Peruvian Nuevo Sol', 'rate': 0.18567425195694, 'date': 'Mon, 13 Oct 2025 21:55:04 GMT', 'inverseRate': 5.3857763769633}, 'pgk': {'code': 'PGK', 'alphaCode': 'PGK', 'numericCode': '598', 'name': 'Papua New Guinean kina', 'rate': 0.22646605962634, 'date': 'Mon, 13 Oct 2025 21:55:04 GMT', 'inverseRate': 4.4156727133857}, 'pkr': {'code': 'PKR', 'alphaCode': 'PKR', 'numericCode': '586', 'name': 'Pakistani Rupee', 'rate': 15.256734326378, 'date': 'Mon, 13 Oct 2025 21:55:04 GMT', 'inverseRate': 0.065544826212975}, 'pyg': {'code': 'PYG', 'alphaCode': 'PYG', 'numericCode': '600', 'name': 'Paraguayan Guaraní', 'rate': 381.32396748079, 'date': 'Mon, 13 Oct 2025 21:55:04 GMT', 'inverseRate': 0.0026224420316575}, 'rwf': {'code': 'RWF', 'alphaCode': 'RWF', 'numericCode': '646', 'name': 'Rwandan franc', 'rate': 78.324604080074, 'date': 'Mon, 13 Oct 2025 21:55:04 GMT', 'inverseRate': 0.012767380208876}, 'sbd': {'code': 'SBD', 'alphaCode': 'SBD', 'numericCode': '090', 'name': 'Solomon Islands dollar', 'rate': 0.44583272331909, 'date': 'Mon, 13 Oct 2025 21:55:04 GMT', 'inverseRate': 2.2429937231958}, 'scr': {'code': 'SCR', 'alphaCode': 'SCR', 'numericCode': '690', 'name': 'Seychelles rupee', 'rate': 0.79466994969549, 'date': 'Mon, 13 Oct 2025 21:55:04 GMT', 'inverseRate': 1.2583840629474}, 'sdg': {'code': 'SDG', 'alphaCode': 'SDG', 'numericCode': '938', 'name': 'Sudanese pound', 'rate': 32.43281032319, 'date': 'Mon, 13 Oct 2025 21:55:04 GMT', 'inverseRate': 0.030832974078876}, 'sos': {'code': 'SOS', 'alphaCode': 'SOS', 'numericCode': '706', 'name': 'Somali shilling', 'rate': 30.874950639978, 'date': 'Mon, 13 Oct 2025 21:55:04 GMT', 'inverseRate': 0.032388715747619}, 'srd': {'code': 'SRD', 'alphaCode': 'SRD', 'numericCode': '968', 'name': 'Surinamese dollar', 'rate': 2.0650834987355, 'date': 'Mon, 13 Oct 2025 21:55:04 GMT', 'inverseRate': 0.48424192078059}, 'ssp': {'code': 'SSP', 'alphaCode': 'SSP', 'numericCode': '728', 'name': 'South Sudanese pound', 'rate': 248.15700749517, 'date': 'Mon, 13 Oct 2025 21:55:04 GMT', 'inverseRate': 0.0040297068782934}, 'stn': {'code': 'STN', 'alphaCode': 'STN', 'numericCode': '930', 'name': 'São Tomé and Príncipe Dobra', 'rate': 1.1443105287696, 'date': 'Mon, 13 Oct 2025 21:55:04 GMT', 'inverseRate': 0.87388866470992}, 'svc': {'code': 'SVC', 'alphaCode': 'SVC', 'numericCode': '222', 'name': 'Salvadoran colon', 'rate': 0.47280575721152, 'date': 'Mon, 13 Oct 2025 21:55:04 GMT', 'inverseRate': 2.1150334672271}, 'szl': {'code': 'SZL', 'alphaCode': 'SZL', 'numericCode': '748', 'name': 'Swazi lilangeni', 'rate': 0.93821786721061, 'date': 'Mon, 13 Oct 2025 21:55:04 GMT', 'inverseRate': 1.0658505182523}, 'tjs': {'code': 'TJS', 'alphaCode': 'TJS', 'numericCode': '972', 'name': 'Tajikistan Ruble', 'rate': 0.50065220362998, 'date': 'Mon, 13 Oct 2025 21:55:04 GMT', 'inverseRate': 1.9973945840036}, 'tmt': {'code': 'TMT', 'alphaCode': 'TMT', 'numericCode': '934', 'name': 'New Turkmenistan Manat', 'rate': 0.18912417114669, 'date': 'Mon, 13 Oct 2025 21:55:04 GMT', 'inverseRate': 5.2875314347014}, 'top': {'code': 'TOP', 'alphaCode': 'TOP', 'numericCode': '776', 'name': 'Tongan paʻanga', 'rate': 0.12645799006709, 'date': 'Mon, 13 Oct 2025 21:55:04 GMT', 'inverseRate': 7.9077644636724}, 'ttd': {'code': 'TTD', 'alphaCode': 'TTD', 'numericCode': '780', 'name': 'Trinidad Tobago Dollar', 'rate': 0.36624475837936, 'date': 'Mon, 13 Oct 2025 21:55:04 GMT', 'inverseRate': 2.7304145032001}, 'tzs': {'code': 'TZS', 'alphaCode': 'TZS', 'numericCode': '834', 'name': 'Tanzanian shilling', 'rate': 132.25269918364, 'date': 'Mon, 13 Oct 2025 21:55:04 GMT', 'inverseRate': 0.0075612823494167}, 'ugx': {'code': 'UGX', 'alphaCode': 'UGX', 'numericCode': '800', 'name': 'Ugandan shilling', 'rate': 185.18820999325, 'date': 'Mon, 13 Oct 2025 21:55:04 GMT', 'inverseRate': 0.0053999117980376}, 'uyu': {'code': 'UYU', 'alphaCode': 'UYU', 'numericCode': '858', 'name': 'Uruguayan Peso', 'rate': 2.1668756103366, 'date': 'Mon, 13 Oct 2025 21:55:04 GMT', 'inverseRate': 0.46149395711952}, 'uzs': {'code': 'UZS', 'alphaCode': 'UZS', 'numericCode': '860', 'name': 'Uzbekistan Sum', 'rate': 656.1985673384, 'date': 'Mon, 13 Oct 2025 21:55:04 GMT', 'inverseRate': 0.0015239289595771}, 'ves': {'code': 'VES', 'alphaCode': 'VES', 'numericCode': '928', 'name': 'Venezuelan Bolivar', 'rate': 10.524186295055, 'date': 'Mon, 13 Oct 2025 21:55:04 GMT', 'inverseRate': 0.095019222575895}, 'vuv': {'code': 'VUV', 'alphaCode': 'VUV', 'numericCode': '548', 'name': 'Vanuatu vatu', 'rate': 6.5561987315671, 'date': 'Mon, 13 Oct 2025 21:55:04 GMT', 'inverseRate': 0.15252740817406}, 'wst': {'code': 'WST', 'alphaCode': 'WST', 'numericCode': '882', 'name': 'Samoan tala', 'rate': 0.15025030775506, 'date': 'Mon, 13 Oct 2025 21:55:04 GMT', 'inverseRate': 6.655560410766}, 'xaf': {'code': 'XAF', 'alphaCode': 'XAF', 'numericCode': '950', 'name': 'Central African CFA Franc', 'rate': 30.637489857965, 'date': 'Mon, 13 Oct 2025 21:55:04 GMT', 'inverseRate': 0.032639749686935}, 'xcd': {'code': 'XCD', 'alphaCode': 'XCD', 'numericCode': '951', 'name': 'East Caribbean Dollar', 'rate': 0.1458925864353, 'date': 'Mon, 13 Oct 2025 21:55:04 GMT', 'inverseRate': 6.8543578836577}, 'xcg': {'code': 'XCG', 'alphaCode': 'XCG', 'numericCode': '532', 'name': 'Caribbean guilder', 'rate': 0.096724598939961, 'date': 'Mon, 13 Oct 2025 21:55:04 GMT', 'inverseRate': 10.33863165068}, 'xof': {'code': 'XOF', 'alphaCode': 'XOF', 'numericCode': '952', 'name': 'West African CFA Franc', 'rate': 30.637489857965, 'date': 'Mon, 13 Oct 2025 21:55:04 GMT', 'inverseRate': 0.032639749686935}, 'xpf': {'code': 'XPF', 'alphaCode': 'XPF', 'numericCode': '953', 'name': 'CFP Franc', 'rate': 5.5735722745298, 'date': 'Mon, 13 Oct 2025 21:55:04 GMT', 'inverseRate': 0.17941814526562}, 'yer': {'code': 'YER', 'alphaCode': 'YER', 'numericCode': '886', 'name': 'Yemeni rial', 'rate': 12.909223961087, 'date': 'Mon, 13 Oct 2025 21:55:04 GMT', 'inverseRate': 0.077463990323069}, 'zmw': {'code': 'ZMW', 'alphaCode': 'ZMW', 'numericCode': '967', 'name': 'Zambian kwacha', 'rate': 1.228891424139, 'date': 'Mon, 13 Oct 2025 21:55:04 GMT', 'inverseRate': 0.81374154002307}, 'byn': {'code': 'BYN', 'alphaCode': 'BYN', 'numericCode': '933', 'name': 'Belarussian Ruble', 'rate': 0.18383271418242, 'date': 'Mon, 13 Oct 2025 21:55:04 GMT', 'inverseRate': 5.4397282031515}, 'irr': {'code': 'IRR', 'alphaCode': 'IRR', 'numericCode': '364', 'name': 'Iranian rial', 'rate': 2274.3686390341, 'date': 'Mon, 13 Oct 2025 21:55:04 GMT', 'inverseRate': 0.00043968246081017}, 'lak': {'code': 'LAK', 'alphaCode': 'LAK', 'numericCode': '418', 'name': 'Lao kip', 'rate': 1170.8288260117, 'date': 'Mon, 13 Oct 2025 21:55:04 GMT', 'inverseRate': 0.00085409581467721}, 'syp': {'code': 'SYP', 'alphaCode': 'SYP', 'numericCode': '760', 'name': 'Syrian pound', 'rate': 704.16395585756, 'date': 'Mon, 13 Oct 2025 21:55:04 GMT', 'inverseRate': 0.0014201238102029}}\n"
          ]
        }
      ]
    },
    {
      "cell_type": "code",
      "source": [
        "# Mensaje de bienvenida\n",
        "print(\"¡Hola! Bienvenido al convertidor de divisas.\")\n",
        "print(\"Para salir del programa en cualquier momento, presiona 'Enter' cuando se te pida introducir un código de divisa.\")\n",
        "\n",
        "# Mostrar divisas de ejemplo\n",
        "print(\"\\nAlgunas de las divisas más consultadas son:\\n1. USD - Dólar estadounidense\\n2. EUR - Euro\\n3. GBP - Libra esterlina\\n4. JPY - Yen japonés\\n5. CAD - Dólar canadiense\\n6. AUD - Dólar australiano\\n7. CNY - Yuan chino\\n8. MXN - Peso mexicano\\n\")\n",
        "\n",
        "while True:\n",
        "  # Pedir divisa de origen deseada\n",
        "  source_currency = input(\"Introduzca el código de la divisa de origen (por ejemplo, USD, MXN): \")\n",
        "\n",
        "  # Salir del programa\n",
        "  if source_currency == \"\":\n",
        "      print(\"Saliendo del convertidor de divisas. ¡Hasta luego!\")\n",
        "      source_currency_dict= None\n",
        "      break\n",
        "\n",
        "  # Encontrar divisa de origen deseada\n",
        "  else:\n",
        "    try:\n",
        "      currency_data_json = currency_search(source_currency.lower())\n",
        "      source_currency_dict = json.loads(currency_data_json) # Crear diccionario\n",
        "      print(\"Divisa de origen extraida.\")\n",
        "      break\n",
        "    except:\n",
        "       print(\"Divisa de origen no encontrada.\")\n",
        "\n"
      ],
      "metadata": {
        "colab": {
          "base_uri": "https://localhost:8080/"
        },
        "id": "oSiYalSkIiyn",
        "outputId": "133293cb-4788-4bf3-960d-477410637e6e"
      },
      "execution_count": null,
      "outputs": [
        {
          "output_type": "stream",
          "name": "stdout",
          "text": [
            "¡Hola! Bienvenido al convertidor de divisas.\n",
            "Para salir del programa en cualquier momento, presiona 'Enter' cuando se te pida introducir un código de divisa.\n",
            "\n",
            "Algunas de las divisas más consultadas son:\n",
            "1. USD - Dólar estadounidense\n",
            "2. EUR - Euro\n",
            "3. GBP - Libra esterlina\n",
            "4. JPY - Yen japonés\n",
            "5. CAD - Dólar canadiense\n",
            "6. AUD - Dólar australiano\n",
            "7. CNY - Yuan chino\n",
            "8. MXN - Peso mexicano\n",
            "\n",
            "Introduzca el código de la divisa de origen (por ejemplo, USD, MXN): mxn\n",
            "Divisa de origen extraida.\n"
          ]
        }
      ]
    },
    {
      "cell_type": "markdown",
      "source": [
        "##Preguntar al usuario el codigo de divisa de destino , monto a covertir y realizar la coversión"
      ],
      "metadata": {
        "id": "MUkML7bsJNW3"
      }
    },
    {
      "cell_type": "code",
      "source": [
        "# Continuar programa si se encontró divisa\n",
        "if source_currency_dict is not None:\n",
        "    while True:\n",
        "        target_currency = input(\"Introduce el código de la divisa de destino (por ejemplo, EUR, JPY) o presiona Enter para salir: \")\n",
        "        target_currency_upper =  target_currency.upper()\n",
        "\n",
        "        # Salir del programa\n",
        "        if target_currency == \"\":\n",
        "            print(\"Saliendo del convertidor de divisas. ¡Hasta luego!\")\n",
        "            break\n",
        "\n",
        "        # Buscar divisa de salida deseada dentro del diccionario de divisa de origen\n",
        "        if target_currency.lower() in source_currency_dict:\n",
        "            try:\n",
        "                amount = float(input(f\"Por favor, introduce la cantidad en {source_currency.upper()} que deseas convertir a {target_currency_upper}: \"))\n",
        "\n",
        "                # Realizar la conversión\n",
        "                exchange_rate = source_currency_dict[target_currency.lower()][\"rate\"]\n",
        "                converted_amount = amount*exchange_rate\n",
        "\n",
        "                print(f\"{amount} {source_currency.upper()} es igual a {converted_amount:.2f} {target_currency_upper}\")\n",
        "\n",
        "\n",
        "            except ValueError:\n",
        "                print(\"Entrada inválida. Por favor, introduce una cantidad numérica.\")\n",
        "        else:\n",
        "            print(f\"Lo sentimos, no se pudieron encontrar datos para la divisa de destino: {target_currency_upper}\")\n",
        "else:\n",
        "  print(\"Debe existir una divisa de destino antes de continuar!\")"
      ],
      "metadata": {
        "id": "M5MxgkjjJfJu",
        "colab": {
          "base_uri": "https://localhost:8080/"
        },
        "outputId": "dce70d0c-6455-419b-aacb-12613ff482fd"
      },
      "execution_count": null,
      "outputs": [
        {
          "output_type": "stream",
          "name": "stdout",
          "text": [
            "Introduce el código de la divisa de destino (por ejemplo, EUR, JPY) o presiona Enter para salir: usd4\n",
            "Lo sentimos, no se pudieron encontrar datos para la divisa de destino: USD4\n",
            "Introduce el código de la divisa de destino (por ejemplo, EUR, JPY) o presiona Enter para salir: usd\n",
            "Por favor, introduce la cantidad en MXN que deseas convertir a USD: 100\n",
            "100.0 MXN es igual a 5.40 USD\n",
            "Introduce el código de la divisa de destino (por ejemplo, EUR, JPY) o presiona Enter para salir: usd\n",
            "Por favor, introduce la cantidad en MXN que deseas convertir a USD: jkbgk\n",
            "Entrada inválida. Por favor, introduce una cantidad numérica.\n",
            "Introduce el código de la divisa de destino (por ejemplo, EUR, JPY) o presiona Enter para salir: \n",
            "Saliendo del convertidor de divisas. ¡Hasta luego!\n"
          ]
        }
      ]
    },
    {
      "cell_type": "markdown",
      "source": [],
      "metadata": {
        "id": "dXP0l_-KZAU0"
      }
    }
  ]
}