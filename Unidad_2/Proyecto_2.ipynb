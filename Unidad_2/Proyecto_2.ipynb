{
  "nbformat": 4,
  "nbformat_minor": 0,
  "metadata": {
    "colab": {
      "provenance": [],
      "authorship_tag": "ABX9TyO11xlcbkqhmkNmCqx3AYmp",
      "include_colab_link": true
    },
    "kernelspec": {
      "name": "python3",
      "display_name": "Python 3"
    },
    "language_info": {
      "name": "python"
    }
  },
  "cells": [
    {
      "cell_type": "markdown",
      "metadata": {
        "id": "view-in-github",
        "colab_type": "text"
      },
      "source": [
        "<a href=\"https://colab.research.google.com/github/raulacevedor/Pythonnubecucsh/blob/main/Unidad_2/Proyecto_2.ipynb\" target=\"_parent\"><img src=\"https://colab.research.google.com/assets/colab-badge.svg\" alt=\"Open In Colab\"/></a>"
      ]
    },
    {
      "cell_type": "code",
      "execution_count": null,
      "metadata": {
        "id": "knMQf09XEFR0"
      },
      "outputs": [],
      "source": []
    },
    {
      "cell_type": "markdown",
      "source": [
        "#**Proyecto 2. Convertidor de divisas**\n",
        "Fecha: 10 de octubre de 2025\n",
        "\n",
        "##**Curso: Análisis y visualización de datos con Python en la nube**\n",
        "#Nombre: Raúl Acevedo Rosas\n",
        "\n",
        "*Campus: CUCSH*"
      ],
      "metadata": {
        "id": "-zLIkKs-utYM"
      }
    },
    {
      "cell_type": "markdown",
      "source": [
        "##Presentar al usuario las reglas de uso de programa y preguntar al usuario el código de divisa de entrada (origen)"
      ],
      "metadata": {
        "id": "joA02lnVGvOo"
      }
    },
    {
      "cell_type": "code",
      "source": [
        "import json\n",
        "import requests\n",
        "\n",
        "def currency_search(cur):\n",
        "    r = requests.get(\"http://www.floatrates.com/daily/{}.json\".format(cur))\n",
        "    return r.text\n",
        "\n",
        "# Código de ejemplo\n",
        "#exchange_file = currency_search(\"mxn\")\n",
        "#exchange_dict = json.loads(exchange_file) # Crear diccionario\n",
        "#print(exchange_dict)\n"
      ],
      "metadata": {
        "id": "E_obRAZHG-PH"
      },
      "execution_count": 104,
      "outputs": []
    },
    {
      "cell_type": "code",
      "source": [
        "# Mensaje de bienvenida\n",
        "print(\"¡Hola! Bienvenido al convertidor de divisas.\")\n",
        "print(\"Para salir del programa en cualquier momento, presiona 'Enter' cuando se te pida introducir un código de divisa.\")\n",
        "\n",
        "# Mostrar divisas de ejemplo\n",
        "print(\"\\nAlgunas de las divisas más consultadas son:\\n1. USD - Dólar estadounidense\\n2. EUR - Euro\\n3. GBP - Libra esterlina\\n4. JPY - Yen japonés\\n5. CAD - Dólar canadiense\\n6. AUD - Dólar australiano\\n7. CNY - Yuan chino\\n8. MXN - Peso mexicano\\n\")\n",
        "\n",
        "while True:\n",
        "  # Pedir divisa de origen deseada\n",
        "  source_currency = input(\"Introduzca el código de la divisa de origen (por ejemplo, USD, MXN): \")\n",
        "\n",
        "  # Salir del programa\n",
        "  if source_currency == \"\":\n",
        "      print(\"Saliendo del convertidor de divisas. ¡Hasta luego!\")\n",
        "      source_currency_dict= None\n",
        "      break\n",
        "\n",
        "  # Encontrar divisa de origen deseada\n",
        "  else:\n",
        "    try:\n",
        "      currency_data_json = currency_search(source_currency.lower())\n",
        "      source_currency_dict = json.loads(currency_data_json) # Crear diccionario\n",
        "      print(\"Divisa de origen extraida.\")\n",
        "      break\n",
        "    except:\n",
        "       print(\"Divisa de origen no encontrada.\")\n",
        "\n"
      ],
      "metadata": {
        "colab": {
          "base_uri": "https://localhost:8080/"
        },
        "id": "oSiYalSkIiyn",
        "outputId": "133293cb-4788-4bf3-960d-477410637e6e"
      },
      "execution_count": null,
      "outputs": [
        {
          "output_type": "stream",
          "name": "stdout",
          "text": [
            "¡Hola! Bienvenido al convertidor de divisas.\n",
            "Para salir del programa en cualquier momento, presiona 'Enter' cuando se te pida introducir un código de divisa.\n",
            "\n",
            "Algunas de las divisas más consultadas son:\n",
            "1. USD - Dólar estadounidense\n",
            "2. EUR - Euro\n",
            "3. GBP - Libra esterlina\n",
            "4. JPY - Yen japonés\n",
            "5. CAD - Dólar canadiense\n",
            "6. AUD - Dólar australiano\n",
            "7. CNY - Yuan chino\n",
            "8. MXN - Peso mexicano\n",
            "\n",
            "Introduzca el código de la divisa de origen (por ejemplo, USD, MXN): mxn\n",
            "Divisa de origen extraida.\n"
          ]
        }
      ]
    },
    {
      "cell_type": "markdown",
      "source": [
        "##Preguntar al usuario el codigo de divisa de destino , monto a covertir y realizar la coversión"
      ],
      "metadata": {
        "id": "MUkML7bsJNW3"
      }
    },
    {
      "cell_type": "code",
      "source": [
        "# Continuar programa si se encontró divisa\n",
        "if source_currency_dict is not None:\n",
        "    while True:\n",
        "        target_currency = input(\"Introduce el código de la divisa de destino (por ejemplo, EUR, JPY) o presiona Enter para salir: \")\n",
        "        target_currency_upper =  target_currency.upper()\n",
        "\n",
        "        # Salir del programa\n",
        "        if target_currency == \"\":\n",
        "            print(\"Saliendo del convertidor de divisas. ¡Hasta luego!\")\n",
        "            break\n",
        "\n",
        "        # Buscar divisa de salida deseada dentro del diccionario de divisa de origen\n",
        "        if target_currency.lower() in source_currency_dict:\n",
        "            try:\n",
        "                amount = float(input(f\"Por favor, introduce la cantidad en {source_currency.upper()} que deseas convertir a {target_currency_upper}: \"))\n",
        "\n",
        "                # Realizar la conversión\n",
        "                exchange_rate = source_currency_dict[target_currency.lower()][\"rate\"]\n",
        "                converted_amount = amount*exchange_rate\n",
        "\n",
        "                print(f\"{amount} {source_currency.upper()} es igual a {converted_amount:.2f} {target_currency_upper}\")\n",
        "\n",
        "\n",
        "            except ValueError:\n",
        "                print(\"Entrada inválida. Por favor, introduce una cantidad numérica.\")\n",
        "        else:\n",
        "            print(f\"Lo sentimos, no se pudieron encontrar datos para la divisa de destino: {target_currency_upper}\")\n",
        "else:\n",
        "  print(\"Debe existir una divisa de destino antes de continuar!\")"
      ],
      "metadata": {
        "id": "M5MxgkjjJfJu",
        "colab": {
          "base_uri": "https://localhost:8080/"
        },
        "outputId": "dce70d0c-6455-419b-aacb-12613ff482fd"
      },
      "execution_count": null,
      "outputs": [
        {
          "output_type": "stream",
          "name": "stdout",
          "text": [
            "Introduce el código de la divisa de destino (por ejemplo, EUR, JPY) o presiona Enter para salir: usd4\n",
            "Lo sentimos, no se pudieron encontrar datos para la divisa de destino: USD4\n",
            "Introduce el código de la divisa de destino (por ejemplo, EUR, JPY) o presiona Enter para salir: usd\n",
            "Por favor, introduce la cantidad en MXN que deseas convertir a USD: 100\n",
            "100.0 MXN es igual a 5.40 USD\n",
            "Introduce el código de la divisa de destino (por ejemplo, EUR, JPY) o presiona Enter para salir: usd\n",
            "Por favor, introduce la cantidad en MXN que deseas convertir a USD: jkbgk\n",
            "Entrada inválida. Por favor, introduce una cantidad numérica.\n",
            "Introduce el código de la divisa de destino (por ejemplo, EUR, JPY) o presiona Enter para salir: \n",
            "Saliendo del convertidor de divisas. ¡Hasta luego!\n"
          ]
        }
      ]
    },
    {
      "cell_type": "markdown",
      "source": [],
      "metadata": {
        "id": "dXP0l_-KZAU0"
      }
    }
  ]
}